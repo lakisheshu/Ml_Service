{
 "cells": [
  {
   "cell_type": "code",
   "execution_count": 8,
   "metadata": {},
   "outputs": [
    {
     "name": "stdout",
     "output_type": "stream",
     "text": [
      "{'age': 31.0, 'workclass': 'Private', 'fnlwgt': 121124, 'education': 'HS-grad', 'education-num': 9.0, 'marital-status': 'Married-civ-spouse', 'occupation': 'Prof-specialty', 'relationship': 'Husband', 'race': 'White', 'sex': 'Male', 'capital-gain': 0.0, 'capital-loss': 0.0, 'hours-per-week': 40.0, 'native-country': 'United-States'}\n"
     ]
    }
   ],
   "source": [
    "import json # use to save the preprocessing data\n",
    "import pandas as pd # data manipulation\n",
    "import numpy as np # data manipulation\n",
    "from sklearn.model_selection import train_test_split # used for spliting the data\n",
    "from sklearn.preprocessing import LabelEncoder # for processing\n",
    "from sklearn.ensemble import RandomForestClassifier # traning the algorithm\n",
    "from sklearn.ensemble import ExtraTreesClassifier # traning the algorithm\n",
    "import joblib # for saving the algorithm and preprocessing objects\n",
    "\n",
    "\n",
    "#loading data \n",
    "df =pd.read_csv('https://raw.githubusercontent.com/pplonski/datasets-for-start/master/adult/data.csv', skipinitialspace=True)\n",
    "x_cols=[c for c in df.columns if c != 'income']\n",
    "X=df[x_cols] # dividing the x axis and y axis\n",
    "y=df['income']\n",
    "df.head() # dispalys first 5 rows data\n",
    "\n",
    "#Spliting the  train/test data\n",
    "\n",
    "x_train,x_test,y_train,y_test=train_test_split(X,y,test_size=0.3,random_state=1234)\n",
    "\n",
    "# missing data filling\n",
    "train_mode=dict(x_train.mode().iloc[0])\n",
    "x_train=x_train.fillna(train_mode)\n",
    "print(train_mode)\n",
    "\n",
    "#conver categoricals\n",
    "encoder={}\n",
    "for column in ['workclass', 'education', 'marital-status',\n",
    "                'occupation', 'relationship', 'race',\n",
    "                'sex','native-country']:\n",
    "    categorical_convert=LabelEncoder()\n",
    "    x_train[column]=categorical_convert.fit_transform(x_train[column])\n",
    "    encoder[column]=categorical_convert\n",
    "    \n",
    "    \n",
    "    \n",
    "    \n",
    "#conver categoricals\n",
    "encoder={}\n",
    "for column in ['workclass', 'education', 'marital-status',\n",
    "                'occupation', 'relationship', 'race',\n",
    "                'sex','native-country']:\n",
    "    categorical_convert=LabelEncoder()\n",
    "    x_train[column]=categorical_convert.fit_transform(x_train[column])\n",
    "    encoder[column]=categorical_convert\n",
    "\n",
    "    \n",
    "#train random forest algorithm\n",
    "rf=RandomForestClassifier(n_estimator=100)\n",
    "rf=rf.fit(x_train,y_train)\n",
    "# train the Extra Trees algorithm\n",
    "et = ExtraTreesClassifier(n_estimators = 100)\n",
    "et = et.fit(X_train, y_train)\n",
    "\n",
    "\n",
    "# for saving the preprocessing data\n",
    "\n",
    "joblib.dump(train_mode,\"./train_mode.joblib\",compress=True)\n",
    "joblib.dump(encoder,\"./encoders.joblib\",compress=True)\n",
    "joblib.dump(rf,\"./random_forest.joblib\",compress=True)\n",
    "joblib.dump(et,\"./extra_trees\",copress=True)\n",
    "    "
   ]
  },
  {
   "cell_type": "code",
   "execution_count": 12,
   "metadata": {},
   "outputs": [
    {
     "name": "stdout",
     "output_type": "stream",
     "text": [
      "{'workclass': LabelEncoder(), 'education': LabelEncoder(), 'marital-status': LabelEncoder(), 'occupation': LabelEncoder(), 'relationship': LabelEncoder(), 'race': LabelEncoder(), 'sex': LabelEncoder(), 'native-country': LabelEncoder()}\n"
     ]
    }
   ],
   "source": []
  },
  {
   "cell_type": "code",
   "execution_count": null,
   "metadata": {},
   "outputs": [],
   "source": []
  }
 ],
 "metadata": {
  "kernelspec": {
   "display_name": "ML",
   "language": "python",
   "name": "ml"
  },
  "language_info": {
   "codemirror_mode": {
    "name": "ipython",
    "version": 3
   },
   "file_extension": ".py",
   "mimetype": "text/x-python",
   "name": "python",
   "nbconvert_exporter": "python",
   "pygments_lexer": "ipython3",
   "version": "3.6.5"
  }
 },
 "nbformat": 4,
 "nbformat_minor": 4
}
